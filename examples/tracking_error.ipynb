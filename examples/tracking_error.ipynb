{
 "cells": [
  {
   "cell_type": "code",
   "execution_count": 8,
   "metadata": {},
   "outputs": [],
   "source": [
    "from cvxpy_portfolio_optimizer.objective_function import TrackingErrorObjectiveFunction, WorstRealizationObjectiveFunction\n",
    "from cvxpy_portfolio_optimizer.constraint_function import SumToOneConstraint, NoShortSellConstraint, TrackingErrorConstraint\n",
    "from cvxpy_portfolio_optimizer.portfolio_optimization_problem import PortfolioOptimizationProblem\n",
    "import cvxpy as cp\n",
    "import yfinance as yf"
   ]
  },
  {
   "cell_type": "code",
   "execution_count": 9,
   "metadata": {},
   "outputs": [
    {
     "name": "stderr",
     "output_type": "stream",
     "text": [
      "[*********************100%%**********************]  10 of 10 completed\n"
     ]
    },
    {
     "data": {
      "text/html": [
       "<div>\n",
       "<style scoped>\n",
       "    .dataframe tbody tr th:only-of-type {\n",
       "        vertical-align: middle;\n",
       "    }\n",
       "\n",
       "    .dataframe tbody tr th {\n",
       "        vertical-align: top;\n",
       "    }\n",
       "\n",
       "    .dataframe thead th {\n",
       "        text-align: right;\n",
       "    }\n",
       "</style>\n",
       "<table border=\"1\" class=\"dataframe\">\n",
       "  <thead>\n",
       "    <tr style=\"text-align: right;\">\n",
       "      <th>Ticker</th>\n",
       "      <th>TSLA</th>\n",
       "      <th>MSFT</th>\n",
       "      <th>IBM</th>\n",
       "      <th>GOOG</th>\n",
       "      <th>AAPL</th>\n",
       "      <th>AMZN</th>\n",
       "      <th>ADBE</th>\n",
       "      <th>EXC</th>\n",
       "      <th>XOM</th>\n",
       "      <th>META</th>\n",
       "    </tr>\n",
       "    <tr>\n",
       "      <th>Date</th>\n",
       "      <th></th>\n",
       "      <th></th>\n",
       "      <th></th>\n",
       "      <th></th>\n",
       "      <th></th>\n",
       "      <th></th>\n",
       "      <th></th>\n",
       "      <th></th>\n",
       "      <th></th>\n",
       "      <th></th>\n",
       "    </tr>\n",
       "  </thead>\n",
       "  <tbody>\n",
       "    <tr>\n",
       "      <th>2023-05-16</th>\n",
       "      <td>0.001022</td>\n",
       "      <td>0.007368</td>\n",
       "      <td>0.000811</td>\n",
       "      <td>0.026761</td>\n",
       "      <td>0.000000</td>\n",
       "      <td>0.019784</td>\n",
       "      <td>-0.001620</td>\n",
       "      <td>-0.034102</td>\n",
       "      <td>-0.024270</td>\n",
       "      <td>-0.000167</td>\n",
       "    </tr>\n",
       "    <tr>\n",
       "      <th>2023-05-17</th>\n",
       "      <td>0.044079</td>\n",
       "      <td>0.009451</td>\n",
       "      <td>0.018225</td>\n",
       "      <td>0.011575</td>\n",
       "      <td>0.003603</td>\n",
       "      <td>0.018519</td>\n",
       "      <td>0.033381</td>\n",
       "      <td>-0.002794</td>\n",
       "      <td>0.022435</td>\n",
       "      <td>0.015367</td>\n",
       "    </tr>\n",
       "    <tr>\n",
       "      <th>2023-05-18</th>\n",
       "      <td>0.017428</td>\n",
       "      <td>0.014395</td>\n",
       "      <td>0.003500</td>\n",
       "      <td>0.016793</td>\n",
       "      <td>0.013666</td>\n",
       "      <td>0.022944</td>\n",
       "      <td>0.010655</td>\n",
       "      <td>0.003311</td>\n",
       "      <td>0.009063</td>\n",
       "      <td>0.017980</td>\n",
       "    </tr>\n",
       "    <tr>\n",
       "      <th>2023-05-19</th>\n",
       "      <td>0.018373</td>\n",
       "      <td>-0.000565</td>\n",
       "      <td>0.008799</td>\n",
       "      <td>-0.002186</td>\n",
       "      <td>0.000628</td>\n",
       "      <td>-0.016081</td>\n",
       "      <td>0.030020</td>\n",
       "      <td>0.012186</td>\n",
       "      <td>0.004633</td>\n",
       "      <td>-0.004902</td>\n",
       "    </tr>\n",
       "    <tr>\n",
       "      <th>2023-05-22</th>\n",
       "      <td>0.048462</td>\n",
       "      <td>0.008921</td>\n",
       "      <td>0.001886</td>\n",
       "      <td>0.021258</td>\n",
       "      <td>-0.005481</td>\n",
       "      <td>-0.010667</td>\n",
       "      <td>0.002155</td>\n",
       "      <td>0.006270</td>\n",
       "      <td>-0.012140</td>\n",
       "      <td>0.010910</td>\n",
       "    </tr>\n",
       "    <tr>\n",
       "      <th>...</th>\n",
       "      <td>...</td>\n",
       "      <td>...</td>\n",
       "      <td>...</td>\n",
       "      <td>...</td>\n",
       "      <td>...</td>\n",
       "      <td>...</td>\n",
       "      <td>...</td>\n",
       "      <td>...</td>\n",
       "      <td>...</td>\n",
       "      <td>...</td>\n",
       "    </tr>\n",
       "    <tr>\n",
       "      <th>2024-05-09</th>\n",
       "      <td>-0.015739</td>\n",
       "      <td>0.004336</td>\n",
       "      <td>-0.021365</td>\n",
       "      <td>0.002454</td>\n",
       "      <td>0.010014</td>\n",
       "      <td>0.007979</td>\n",
       "      <td>-0.011166</td>\n",
       "      <td>0.013485</td>\n",
       "      <td>0.019716</td>\n",
       "      <td>0.005967</td>\n",
       "    </tr>\n",
       "    <tr>\n",
       "      <th>2024-05-10</th>\n",
       "      <td>-0.020352</td>\n",
       "      <td>0.005869</td>\n",
       "      <td>0.005293</td>\n",
       "      <td>-0.007518</td>\n",
       "      <td>-0.006890</td>\n",
       "      <td>-0.010660</td>\n",
       "      <td>-0.000746</td>\n",
       "      <td>-0.007378</td>\n",
       "      <td>-0.004053</td>\n",
       "      <td>0.001641</td>\n",
       "    </tr>\n",
       "    <tr>\n",
       "      <th>2024-05-13</th>\n",
       "      <td>0.020300</td>\n",
       "      <td>-0.002459</td>\n",
       "      <td>0.002453</td>\n",
       "      <td>0.003582</td>\n",
       "      <td>0.017645</td>\n",
       "      <td>-0.004854</td>\n",
       "      <td>0.001700</td>\n",
       "      <td>0.012211</td>\n",
       "      <td>-0.000424</td>\n",
       "      <td>-0.017199</td>\n",
       "    </tr>\n",
       "    <tr>\n",
       "      <th>2024-05-14</th>\n",
       "      <td>0.032928</td>\n",
       "      <td>0.006865</td>\n",
       "      <td>-0.001194</td>\n",
       "      <td>0.006027</td>\n",
       "      <td>0.006173</td>\n",
       "      <td>0.002680</td>\n",
       "      <td>-0.014821</td>\n",
       "      <td>0.007081</td>\n",
       "      <td>0.006070</td>\n",
       "      <td>0.008205</td>\n",
       "    </tr>\n",
       "    <tr>\n",
       "      <th>2024-05-15</th>\n",
       "      <td>-0.012785</td>\n",
       "      <td>0.013179</td>\n",
       "      <td>0.002808</td>\n",
       "      <td>0.004945</td>\n",
       "      <td>0.016353</td>\n",
       "      <td>-0.016900</td>\n",
       "      <td>0.022986</td>\n",
       "      <td>0.013281</td>\n",
       "      <td>0.006884</td>\n",
       "      <td>0.009071</td>\n",
       "    </tr>\n",
       "  </tbody>\n",
       "</table>\n",
       "<p>252 rows × 10 columns</p>\n",
       "</div>"
      ],
      "text/plain": [
       "Ticker          TSLA      MSFT       IBM      GOOG      AAPL      AMZN  \\\n",
       "Date                                                                     \n",
       "2023-05-16  0.001022  0.007368  0.000811  0.026761  0.000000  0.019784   \n",
       "2023-05-17  0.044079  0.009451  0.018225  0.011575  0.003603  0.018519   \n",
       "2023-05-18  0.017428  0.014395  0.003500  0.016793  0.013666  0.022944   \n",
       "2023-05-19  0.018373 -0.000565  0.008799 -0.002186  0.000628 -0.016081   \n",
       "2023-05-22  0.048462  0.008921  0.001886  0.021258 -0.005481 -0.010667   \n",
       "...              ...       ...       ...       ...       ...       ...   \n",
       "2024-05-09 -0.015739  0.004336 -0.021365  0.002454  0.010014  0.007979   \n",
       "2024-05-10 -0.020352  0.005869  0.005293 -0.007518 -0.006890 -0.010660   \n",
       "2024-05-13  0.020300 -0.002459  0.002453  0.003582  0.017645 -0.004854   \n",
       "2024-05-14  0.032928  0.006865 -0.001194  0.006027  0.006173  0.002680   \n",
       "2024-05-15 -0.012785  0.013179  0.002808  0.004945  0.016353 -0.016900   \n",
       "\n",
       "Ticker          ADBE       EXC       XOM      META  \n",
       "Date                                                \n",
       "2023-05-16 -0.001620 -0.034102 -0.024270 -0.000167  \n",
       "2023-05-17  0.033381 -0.002794  0.022435  0.015367  \n",
       "2023-05-18  0.010655  0.003311  0.009063  0.017980  \n",
       "2023-05-19  0.030020  0.012186  0.004633 -0.004902  \n",
       "2023-05-22  0.002155  0.006270 -0.012140  0.010910  \n",
       "...              ...       ...       ...       ...  \n",
       "2024-05-09 -0.011166  0.013485  0.019716  0.005967  \n",
       "2024-05-10 -0.000746 -0.007378 -0.004053  0.001641  \n",
       "2024-05-13  0.001700  0.012211 -0.000424 -0.017199  \n",
       "2024-05-14 -0.014821  0.007081  0.006070  0.008205  \n",
       "2024-05-15  0.022986  0.013281  0.006884  0.009071  \n",
       "\n",
       "[252 rows x 10 columns]"
      ]
     },
     "execution_count": 9,
     "metadata": {},
     "output_type": "execute_result"
    }
   ],
   "source": [
    "tickers = [\"TSLA\", \"MSFT\", \"IBM\", \"GOOG\", \"AAPL\", \"AMZN\", \"ADBE\", \"EXC\", \"XOM\", \"META\"]\n",
    "rets = (\n",
    "    yf.download(tickers, period=\"1y\")[\"Adj Close\"].loc[:, tickers].pct_change().iloc[1:, :].ffill()\n",
    ")\n",
    "rets"
   ]
  },
  {
   "attachments": {},
   "cell_type": "markdown",
   "metadata": {},
   "source": [
    "In the following portfolio optimization problem we will:\n",
    "- Minimize Tracking Error on a universe of 10 assets with respect to a benchmark, (bench_rets) in this case the SP500 etf"
   ]
  },
  {
   "cell_type": "code",
   "execution_count": 10,
   "metadata": {},
   "outputs": [
    {
     "name": "stderr",
     "output_type": "stream",
     "text": [
      "[*********************100%%**********************]  1 of 1 completed\n"
     ]
    },
    {
     "data": {
      "text/plain": [
       "Date\n",
       "2023-05-16   -0.006683\n",
       "2023-05-17    0.012139\n",
       "2023-05-18    0.009633\n",
       "2023-05-19   -0.001455\n",
       "2023-05-22    0.000406\n",
       "                ...   \n",
       "2024-05-09    0.005762\n",
       "2024-05-10    0.001288\n",
       "2024-05-13    0.000134\n",
       "2024-05-14    0.004588\n",
       "2024-05-15    0.010128\n",
       "Name: Adj Close, Length: 252, dtype: float64"
      ]
     },
     "execution_count": 10,
     "metadata": {},
     "output_type": "execute_result"
    }
   ],
   "source": [
    "bench_rets = yf.download([\"SPY\"], period=\"1y\")[\"Adj Close\"].pct_change().iloc[1:].ffill()\n",
    "bench_rets"
   ]
  },
  {
   "cell_type": "code",
   "execution_count": 11,
   "metadata": {},
   "outputs": [],
   "source": [
    "pop = PortfolioOptimizationProblem(\n",
    "    returns=rets,\n",
    "    objective_functions=[\n",
    "        TrackingErrorObjectiveFunction(benchmark_returns=bench_rets),\n",
    "    ],\n",
    "    constraint_functions=[\n",
    "        SumToOneConstraint(),\n",
    "        NoShortSellConstraint(),\n",
    "    ],\n",
    ")\n",
    "ptf = pop.solve(solver=cp.CLARABEL)"
   ]
  },
  {
   "cell_type": "code",
   "execution_count": 12,
   "metadata": {},
   "outputs": [
    {
     "data": {
      "text/plain": [
       "TSLA    0.044624\n",
       "MSFT    0.178096\n",
       "IBM     0.141667\n",
       "GOOG    0.068322\n",
       "AAPL    0.152596\n",
       "AMZN    0.081695\n",
       "ADBE    0.010299\n",
       "EXC     0.127274\n",
       "XOM     0.163707\n",
       "META    0.031720\n",
       "dtype: float64"
      ]
     },
     "execution_count": 12,
     "metadata": {},
     "output_type": "execute_result"
    }
   ],
   "source": [
    "ptf.weights"
   ]
  },
  {
   "cell_type": "code",
   "execution_count": 13,
   "metadata": {},
   "outputs": [
    {
     "data": {
      "text/plain": [
       "<Axes: xlabel='Date'>"
      ]
     },
     "execution_count": 13,
     "metadata": {},
     "output_type": "execute_result"
    },
    {
     "data": {
      "image/png": "[encoded data removed]",
      "text/plain": [
       "<Figure size 640x480 with 1 Axes>"
      ]
     },
     "metadata": {},
     "output_type": "display_data"
    }
   ],
   "source": [
    "ptf_rets = rets.dot(ptf.weights)\n",
    "(1 + ptf_rets).cumprod().plot()\n",
    "(1 + bench_rets).cumprod().plot()"
   ]
  },
  {
   "cell_type": "code",
   "execution_count": 14,
   "metadata": {},
   "outputs": [
    {
     "data": {
      "text/plain": [
       "0.0034810379901279516"
      ]
     },
     "execution_count": 14,
     "metadata": {},
     "output_type": "execute_result"
    }
   ],
   "source": [
    "# Tracking error\n",
    "(ptf_rets - bench_rets).std()"
   ]
  },
  {
   "cell_type": "markdown",
   "metadata": {},
   "source": [
    "Tracking error can also be a constraint, and we can minimize another objective function"
   ]
  },
  {
   "cell_type": "code",
   "execution_count": 21,
   "metadata": {},
   "outputs": [],
   "source": [
    "pop = PortfolioOptimizationProblem(\n",
    "    returns=rets,\n",
    "    objective_functions=[\n",
    "        WorstRealizationObjectiveFunction()\n",
    "    ],\n",
    "    constraint_functions=[\n",
    "        SumToOneConstraint(),\n",
    "        NoShortSellConstraint(),\n",
    "        TrackingErrorConstraint(benchmark_returns=bench_rets, upper_bound=0.005),\n",
    "    ],\n",
    ")\n",
    "ptf = pop.solve(solver=cp.CLARABEL)"
   ]
  },
  {
   "cell_type": "code",
   "execution_count": 22,
   "metadata": {},
   "outputs": [
    {
     "data": {
      "text/plain": [
       "0.004990923342561178"
      ]
     },
     "execution_count": 22,
     "metadata": {},
     "output_type": "execute_result"
    }
   ],
   "source": [
    "# Tracking error\n",
    "ptf_rets = rets.dot(ptf.weights)\n",
    "(ptf_rets - bench_rets).std()"
   ]
  },
  {
   "cell_type": "code",
   "execution_count": 26,
   "metadata": {},
   "outputs": [
    {
     "data": {
      "text/plain": [
       "<Axes: >"
      ]
     },
     "execution_count": 26,
     "metadata": {},
     "output_type": "execute_result"
    },
    {
     "data": {
      "image/png": "[encoded data removed]",
      "text/plain": [
       "<Figure size 640x480 with 1 Axes>"
      ]
     },
     "metadata": {},
     "output_type": "display_data"
    }
   ],
   "source": [
    "ptf.weights.plot.bar()"
   ]
  },
  {
   "cell_type": "code",
   "execution_count": null,
   "metadata": {},
   "outputs": [],
   "source": []
  }
 ],
 "metadata": {
  "kernelspec": {
   "display_name": "cvxpy-portfolio-optimizer-env",
   "language": "python",
   "name": "python3"
  },
  "language_info": {
   "codemirror_mode": {
    "name": "ipython",
    "version": 3
   },
   "file_extension": ".py",
   "mimetype": "text/x-python",
   "name": "python",
   "nbconvert_exporter": "python",
   "pygments_lexer": "ipython3",
   "version": "3.10.5"
  },
  "orig_nbformat": 4
 },
 "nbformat": 4,
 "nbformat_minor": 2
}
