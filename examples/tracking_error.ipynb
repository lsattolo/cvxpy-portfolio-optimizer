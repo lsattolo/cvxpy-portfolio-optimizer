{
 "cells": [
  {
   "cell_type": "code",
   "execution_count": null,
   "metadata": {},
   "outputs": [],
   "source": [
    "from cvxpy_portfolio_optimizer.objective_function import TrackingErrorObjectiveFunction\n",
    "from cvxpy_portfolio_optimizer.constraint_function import SumToOneConstraint, NoShortSellConstraint\n",
    "from cvxpy_portfolio_optimizer.portfolio_optimization_problem import PortfolioOptimizationProblem\n",
    "import yfinance as yf"
   ]
  },
  {
   "cell_type": "code",
   "execution_count": 2,
   "metadata": {},
   "outputs": [
    {
     "name": "stdout",
     "output_type": "stream",
     "text": [
      "[*********************100%***********************]  10 of 10 completed\n"
     ]
    },
    {
     "data": {
      "text/html": [
       "<div>\n",
       "<style scoped>\n",
       "    .dataframe tbody tr th:only-of-type {\n",
       "        vertical-align: middle;\n",
       "    }\n",
       "\n",
       "    .dataframe tbody tr th {\n",
       "        vertical-align: top;\n",
       "    }\n",
       "\n",
       "    .dataframe thead th {\n",
       "        text-align: right;\n",
       "    }\n",
       "</style>\n",
       "<table border=\"1\" class=\"dataframe\">\n",
       "  <thead>\n",
       "    <tr style=\"text-align: right;\">\n",
       "      <th></th>\n",
       "      <th>TSLA</th>\n",
       "      <th>MSFT</th>\n",
       "      <th>IBM</th>\n",
       "      <th>GOOG</th>\n",
       "      <th>AAPL</th>\n",
       "      <th>AMZN</th>\n",
       "      <th>ADBE</th>\n",
       "      <th>EXC</th>\n",
       "      <th>XOM</th>\n",
       "      <th>META</th>\n",
       "    </tr>\n",
       "    <tr>\n",
       "      <th>Date</th>\n",
       "      <th></th>\n",
       "      <th></th>\n",
       "      <th></th>\n",
       "      <th></th>\n",
       "      <th></th>\n",
       "      <th></th>\n",
       "      <th></th>\n",
       "      <th></th>\n",
       "      <th></th>\n",
       "      <th></th>\n",
       "    </tr>\n",
       "  </thead>\n",
       "  <tbody>\n",
       "    <tr>\n",
       "      <th>2022-05-24</th>\n",
       "      <td>-0.069255</td>\n",
       "      <td>-0.003952</td>\n",
       "      <td>0.020051</td>\n",
       "      <td>-0.051407</td>\n",
       "      <td>-0.019216</td>\n",
       "      <td>-0.032141</td>\n",
       "      <td>-0.020528</td>\n",
       "      <td>0.019628</td>\n",
       "      <td>0.005432</td>\n",
       "      <td>-0.076186</td>\n",
       "    </tr>\n",
       "    <tr>\n",
       "      <th>2022-05-25</th>\n",
       "      <td>0.048777</td>\n",
       "      <td>0.011170</td>\n",
       "      <td>0.004410</td>\n",
       "      <td>-0.000817</td>\n",
       "      <td>0.001140</td>\n",
       "      <td>0.025696</td>\n",
       "      <td>0.010266</td>\n",
       "      <td>0.003891</td>\n",
       "      <td>0.020127</td>\n",
       "      <td>0.014067</td>\n",
       "    </tr>\n",
       "    <tr>\n",
       "      <th>2022-05-26</th>\n",
       "      <td>0.074271</td>\n",
       "      <td>0.012875</td>\n",
       "      <td>0.018603</td>\n",
       "      <td>0.023210</td>\n",
       "      <td>0.023200</td>\n",
       "      <td>0.040295</td>\n",
       "      <td>0.015155</td>\n",
       "      <td>0.002856</td>\n",
       "      <td>0.003531</td>\n",
       "      <td>0.042431</td>\n",
       "    </tr>\n",
       "    <tr>\n",
       "      <th>2022-05-27</th>\n",
       "      <td>0.073333</td>\n",
       "      <td>0.027604</td>\n",
       "      <td>0.017386</td>\n",
       "      <td>0.041581</td>\n",
       "      <td>0.040757</td>\n",
       "      <td>0.036632</td>\n",
       "      <td>0.048018</td>\n",
       "      <td>0.014036</td>\n",
       "      <td>0.009830</td>\n",
       "      <td>0.018264</td>\n",
       "    </tr>\n",
       "    <tr>\n",
       "      <th>2022-05-31</th>\n",
       "      <td>-0.001804</td>\n",
       "      <td>-0.005014</td>\n",
       "      <td>-0.003088</td>\n",
       "      <td>0.010993</td>\n",
       "      <td>-0.005346</td>\n",
       "      <td>0.043970</td>\n",
       "      <td>-0.027416</td>\n",
       "      <td>-0.014042</td>\n",
       "      <td>-0.016293</td>\n",
       "      <td>-0.007636</td>\n",
       "    </tr>\n",
       "    <tr>\n",
       "      <th>...</th>\n",
       "      <td>...</td>\n",
       "      <td>...</td>\n",
       "      <td>...</td>\n",
       "      <td>...</td>\n",
       "      <td>...</td>\n",
       "      <td>...</td>\n",
       "      <td>...</td>\n",
       "      <td>...</td>\n",
       "      <td>...</td>\n",
       "      <td>...</td>\n",
       "    </tr>\n",
       "    <tr>\n",
       "      <th>2023-05-17</th>\n",
       "      <td>0.044079</td>\n",
       "      <td>0.009452</td>\n",
       "      <td>0.018225</td>\n",
       "      <td>0.011575</td>\n",
       "      <td>0.003603</td>\n",
       "      <td>0.018519</td>\n",
       "      <td>0.033381</td>\n",
       "      <td>-0.002794</td>\n",
       "      <td>0.022435</td>\n",
       "      <td>0.015367</td>\n",
       "    </tr>\n",
       "    <tr>\n",
       "      <th>2023-05-18</th>\n",
       "      <td>0.017428</td>\n",
       "      <td>0.014395</td>\n",
       "      <td>0.003500</td>\n",
       "      <td>0.016793</td>\n",
       "      <td>0.013666</td>\n",
       "      <td>0.022944</td>\n",
       "      <td>0.010655</td>\n",
       "      <td>0.003311</td>\n",
       "      <td>0.009063</td>\n",
       "      <td>0.017980</td>\n",
       "    </tr>\n",
       "    <tr>\n",
       "      <th>2023-05-19</th>\n",
       "      <td>0.018373</td>\n",
       "      <td>-0.000565</td>\n",
       "      <td>0.008799</td>\n",
       "      <td>-0.002186</td>\n",
       "      <td>0.000628</td>\n",
       "      <td>-0.016081</td>\n",
       "      <td>0.030020</td>\n",
       "      <td>0.012186</td>\n",
       "      <td>0.004633</td>\n",
       "      <td>-0.004902</td>\n",
       "    </tr>\n",
       "    <tr>\n",
       "      <th>2023-05-22</th>\n",
       "      <td>0.048462</td>\n",
       "      <td>0.008921</td>\n",
       "      <td>0.001886</td>\n",
       "      <td>0.021258</td>\n",
       "      <td>-0.005481</td>\n",
       "      <td>-0.010667</td>\n",
       "      <td>0.002155</td>\n",
       "      <td>0.006270</td>\n",
       "      <td>-0.012140</td>\n",
       "      <td>0.010910</td>\n",
       "    </tr>\n",
       "    <tr>\n",
       "      <th>2023-05-23</th>\n",
       "      <td>0.009159</td>\n",
       "      <td>-0.007161</td>\n",
       "      <td>0.002980</td>\n",
       "      <td>-0.008541</td>\n",
       "      <td>-0.008037</td>\n",
       "      <td>0.018085</td>\n",
       "      <td>0.001774</td>\n",
       "      <td>0.010967</td>\n",
       "      <td>0.029723</td>\n",
       "      <td>0.009645</td>\n",
       "    </tr>\n",
       "  </tbody>\n",
       "</table>\n",
       "<p>251 rows × 10 columns</p>\n",
       "</div>"
      ],
      "text/plain": [
       "                TSLA      MSFT       IBM      GOOG      AAPL      AMZN   \n",
       "Date                                                                     \n",
       "2022-05-24 -0.069255 -0.003952  0.020051 -0.051407 -0.019216 -0.032141  \\\n",
       "2022-05-25  0.048777  0.011170  0.004410 -0.000817  0.001140  0.025696   \n",
       "2022-05-26  0.074271  0.012875  0.018603  0.023210  0.023200  0.040295   \n",
       "2022-05-27  0.073333  0.027604  0.017386  0.041581  0.040757  0.036632   \n",
       "2022-05-31 -0.001804 -0.005014 -0.003088  0.010993 -0.005346  0.043970   \n",
       "...              ...       ...       ...       ...       ...       ...   \n",
       "2023-05-17  0.044079  0.009452  0.018225  0.011575  0.003603  0.018519   \n",
       "2023-05-18  0.017428  0.014395  0.003500  0.016793  0.013666  0.022944   \n",
       "2023-05-19  0.018373 -0.000565  0.008799 -0.002186  0.000628 -0.016081   \n",
       "2023-05-22  0.048462  0.008921  0.001886  0.021258 -0.005481 -0.010667   \n",
       "2023-05-23  0.009159 -0.007161  0.002980 -0.008541 -0.008037  0.018085   \n",
       "\n",
       "                ADBE       EXC       XOM      META  \n",
       "Date                                                \n",
       "2022-05-24 -0.020528  0.019628  0.005432 -0.076186  \n",
       "2022-05-25  0.010266  0.003891  0.020127  0.014067  \n",
       "2022-05-26  0.015155  0.002856  0.003531  0.042431  \n",
       "2022-05-27  0.048018  0.014036  0.009830  0.018264  \n",
       "2022-05-31 -0.027416 -0.014042 -0.016293 -0.007636  \n",
       "...              ...       ...       ...       ...  \n",
       "2023-05-17  0.033381 -0.002794  0.022435  0.015367  \n",
       "2023-05-18  0.010655  0.003311  0.009063  0.017980  \n",
       "2023-05-19  0.030020  0.012186  0.004633 -0.004902  \n",
       "2023-05-22  0.002155  0.006270 -0.012140  0.010910  \n",
       "2023-05-23  0.001774  0.010967  0.029723  0.009645  \n",
       "\n",
       "[251 rows x 10 columns]"
      ]
     },
     "execution_count": 2,
     "metadata": {},
     "output_type": "execute_result"
    }
   ],
   "source": [
    "tickers = [\"TSLA\", \"MSFT\", \"IBM\", \"GOOG\", \"AAPL\", \"AMZN\", \"ADBE\", \"EXC\", \"XOM\", \"META\"]\n",
    "rets = (\n",
    "    yf.download(tickers, period=\"1y\")[\"Adj Close\"].loc[:, tickers].pct_change().iloc[1:, :].ffill()\n",
    ")\n",
    "rets"
   ]
  },
  {
   "attachments": {},
   "cell_type": "markdown",
   "metadata": {},
   "source": [
    "In the following portfolio optimization problem we will:\n",
    "- Minimize Tracking Error on a universe of 10 assets with respect to a benchmark, (bench_rets) in this case the SP500 etf"
   ]
  },
  {
   "cell_type": "code",
   "execution_count": 3,
   "metadata": {},
   "outputs": [
    {
     "name": "stdout",
     "output_type": "stream",
     "text": [
      "[*********************100%***********************]  1 of 1 completed\n"
     ]
    },
    {
     "data": {
      "text/plain": [
       "Date\n",
       "2022-05-24   -0.007634\n",
       "2022-05-25    0.008835\n",
       "2022-05-26    0.019981\n",
       "2022-05-27    0.024549\n",
       "2022-05-31   -0.005611\n",
       "                ...   \n",
       "2023-05-17    0.012139\n",
       "2023-05-18    0.009633\n",
       "2023-05-19   -0.001455\n",
       "2023-05-22    0.000406\n",
       "2023-05-23   -0.002173\n",
       "Name: Adj Close, Length: 251, dtype: float64"
      ]
     },
     "execution_count": 3,
     "metadata": {},
     "output_type": "execute_result"
    }
   ],
   "source": [
    "bench_rets = yf.download([\"SPY\"], period=\"1y\")[\"Adj Close\"].pct_change().iloc[1:].ffill()\n",
    "bench_rets"
   ]
  },
  {
   "cell_type": "code",
   "execution_count": 31,
   "metadata": {},
   "outputs": [],
   "source": [
    "pop = PortfolioOptimizationProblem(\n",
    "    returns=rets,\n",
    "    objective_functions=[\n",
    "        TrackingErrorObjectiveFunction(benchmark_returns=bench_rets),\n",
    "    ],\n",
    "    constraint_functions=[\n",
    "        SumToOneConstraint(),\n",
    "        NoShortSellConstraint(),\n",
    "    ],\n",
    ")\n",
    "ptf = pop.solve(solver=\"ECOS\")"
   ]
  },
  {
   "cell_type": "code",
   "execution_count": 32,
   "metadata": {},
   "outputs": [
    {
     "data": {
      "text/plain": [
       "TSLA    0.047963\n",
       "MSFT    0.102629\n",
       "IBM     0.216223\n",
       "GOOG    0.050939\n",
       "AAPL    0.115403\n",
       "AMZN    0.072155\n",
       "ADBE    0.033760\n",
       "EXC     0.181296\n",
       "XOM     0.139083\n",
       "META    0.040549\n",
       "dtype: float64"
      ]
     },
     "execution_count": 32,
     "metadata": {},
     "output_type": "execute_result"
    }
   ],
   "source": [
    "ptf.weights"
   ]
  },
  {
   "cell_type": "code",
   "execution_count": 33,
   "metadata": {},
   "outputs": [
    {
     "data": {
      "text/plain": [
       "<Axes: xlabel='Date'>"
      ]
     },
     "execution_count": 33,
     "metadata": {},
     "output_type": "execute_result"
    },
    {
     "data": {
      "image/png": "[encoded data removed]",
      "text/plain": [
       "<Figure size 640x480 with 1 Axes>"
      ]
     },
     "metadata": {},
     "output_type": "display_data"
    }
   ],
   "source": [
    "ptf_rets = rets.dot(ptf.weights)\n",
    "(1 + ptf_rets).cumprod().plot()\n",
    "(1 + bench_rets).cumprod().plot()"
   ]
  },
  {
   "cell_type": "code",
   "execution_count": 34,
   "metadata": {},
   "outputs": [
    {
     "data": {
      "text/plain": [
       "0.004196494581223359"
      ]
     },
     "execution_count": 34,
     "metadata": {},
     "output_type": "execute_result"
    }
   ],
   "source": [
    "# Tracking error\n",
    "(ptf_rets - bench_rets).std()"
   ]
  }
 ],
 "metadata": {
  "kernelspec": {
   "display_name": "cvxpy-portfolio-optimizer-env",
   "language": "python",
   "name": "python3"
  },
  "language_info": {
   "codemirror_mode": {
    "name": "ipython",
    "version": 3
   },
   "file_extension": ".py",
   "mimetype": "text/x-python",
   "name": "python",
   "nbconvert_exporter": "python",
   "pygments_lexer": "ipython3",
   "version": "3.10.5"
  },
  "orig_nbformat": 4
 },
 "nbformat": 4,
 "nbformat_minor": 2
}
