{
 "cells": [
  {
   "cell_type": "code",
   "execution_count": 1,
   "metadata": {},
   "outputs": [],
   "source": [
    "from cvxpy_portfolio_optimizer.objective_function import (\n",
    "    CVaRObjectiveFunction,\n",
    "    VarianceObjectiveFunction,\n",
    "    ExpectedReturnsObjectiveFunction,\n",
    ")\n",
    "from cvxpy_portfolio_optimizer.constraint_function import SumToOneConstraint, NoShortSellConstraint\n",
    "from cvxpy_portfolio_optimizer.portfolio_optimization_problem import PortfolioOptimizationProblem\n",
    "import yfinance as yf"
   ]
  },
  {
   "cell_type": "code",
   "execution_count": 2,
   "metadata": {},
   "outputs": [
    {
     "name": "stdout",
     "output_type": "stream",
     "text": [
      "[*********************100%***********************]  7 of 7 completed\n"
     ]
    },
    {
     "data": {
      "text/html": [
       "<div>\n",
       "<style scoped>\n",
       "    .dataframe tbody tr th:only-of-type {\n",
       "        vertical-align: middle;\n",
       "    }\n",
       "\n",
       "    .dataframe tbody tr th {\n",
       "        vertical-align: top;\n",
       "    }\n",
       "\n",
       "    .dataframe thead th {\n",
       "        text-align: right;\n",
       "    }\n",
       "</style>\n",
       "<table border=\"1\" class=\"dataframe\">\n",
       "  <thead>\n",
       "    <tr style=\"text-align: right;\">\n",
       "      <th></th>\n",
       "      <th>TSLA</th>\n",
       "      <th>MSFT</th>\n",
       "      <th>IBM</th>\n",
       "      <th>GOOG</th>\n",
       "      <th>AAPL</th>\n",
       "      <th>AMZN</th>\n",
       "      <th>ADBE</th>\n",
       "    </tr>\n",
       "    <tr>\n",
       "      <th>Date</th>\n",
       "      <th></th>\n",
       "      <th></th>\n",
       "      <th></th>\n",
       "      <th></th>\n",
       "      <th></th>\n",
       "      <th></th>\n",
       "      <th></th>\n",
       "    </tr>\n",
       "  </thead>\n",
       "  <tbody>\n",
       "    <tr>\n",
       "      <th>2022-05-24</th>\n",
       "      <td>-0.069255</td>\n",
       "      <td>-0.003952</td>\n",
       "      <td>0.020050</td>\n",
       "      <td>-0.051407</td>\n",
       "      <td>-0.019216</td>\n",
       "      <td>-0.032141</td>\n",
       "      <td>-0.020528</td>\n",
       "    </tr>\n",
       "    <tr>\n",
       "      <th>2022-05-25</th>\n",
       "      <td>0.048777</td>\n",
       "      <td>0.011170</td>\n",
       "      <td>0.004410</td>\n",
       "      <td>-0.000817</td>\n",
       "      <td>0.001140</td>\n",
       "      <td>0.025696</td>\n",
       "      <td>0.010266</td>\n",
       "    </tr>\n",
       "    <tr>\n",
       "      <th>2022-05-26</th>\n",
       "      <td>0.074271</td>\n",
       "      <td>0.012875</td>\n",
       "      <td>0.018603</td>\n",
       "      <td>0.023210</td>\n",
       "      <td>0.023199</td>\n",
       "      <td>0.040295</td>\n",
       "      <td>0.015155</td>\n",
       "    </tr>\n",
       "    <tr>\n",
       "      <th>2022-05-27</th>\n",
       "      <td>0.073333</td>\n",
       "      <td>0.027604</td>\n",
       "      <td>0.017386</td>\n",
       "      <td>0.041581</td>\n",
       "      <td>0.040757</td>\n",
       "      <td>0.036632</td>\n",
       "      <td>0.048018</td>\n",
       "    </tr>\n",
       "    <tr>\n",
       "      <th>2022-05-31</th>\n",
       "      <td>-0.001804</td>\n",
       "      <td>-0.005014</td>\n",
       "      <td>-0.003088</td>\n",
       "      <td>0.010993</td>\n",
       "      <td>-0.005346</td>\n",
       "      <td>0.043970</td>\n",
       "      <td>-0.027416</td>\n",
       "    </tr>\n",
       "    <tr>\n",
       "      <th>...</th>\n",
       "      <td>...</td>\n",
       "      <td>...</td>\n",
       "      <td>...</td>\n",
       "      <td>...</td>\n",
       "      <td>...</td>\n",
       "      <td>...</td>\n",
       "      <td>...</td>\n",
       "    </tr>\n",
       "    <tr>\n",
       "      <th>2023-05-16</th>\n",
       "      <td>0.001022</td>\n",
       "      <td>0.007368</td>\n",
       "      <td>0.000811</td>\n",
       "      <td>0.026761</td>\n",
       "      <td>0.000000</td>\n",
       "      <td>0.019784</td>\n",
       "      <td>-0.001620</td>\n",
       "    </tr>\n",
       "    <tr>\n",
       "      <th>2023-05-17</th>\n",
       "      <td>0.044079</td>\n",
       "      <td>0.009452</td>\n",
       "      <td>0.018225</td>\n",
       "      <td>0.011575</td>\n",
       "      <td>0.003603</td>\n",
       "      <td>0.018519</td>\n",
       "      <td>0.033381</td>\n",
       "    </tr>\n",
       "    <tr>\n",
       "      <th>2023-05-18</th>\n",
       "      <td>0.017428</td>\n",
       "      <td>0.014395</td>\n",
       "      <td>0.003500</td>\n",
       "      <td>0.016793</td>\n",
       "      <td>0.013666</td>\n",
       "      <td>0.022944</td>\n",
       "      <td>0.010655</td>\n",
       "    </tr>\n",
       "    <tr>\n",
       "      <th>2023-05-19</th>\n",
       "      <td>0.018373</td>\n",
       "      <td>-0.000565</td>\n",
       "      <td>0.008799</td>\n",
       "      <td>-0.002186</td>\n",
       "      <td>0.000628</td>\n",
       "      <td>-0.016081</td>\n",
       "      <td>0.030020</td>\n",
       "    </tr>\n",
       "    <tr>\n",
       "      <th>2023-05-22</th>\n",
       "      <td>0.048462</td>\n",
       "      <td>0.008921</td>\n",
       "      <td>0.001886</td>\n",
       "      <td>0.021258</td>\n",
       "      <td>-0.005481</td>\n",
       "      <td>-0.010667</td>\n",
       "      <td>0.002155</td>\n",
       "    </tr>\n",
       "  </tbody>\n",
       "</table>\n",
       "<p>250 rows × 7 columns</p>\n",
       "</div>"
      ],
      "text/plain": [
       "                TSLA      MSFT       IBM      GOOG      AAPL      AMZN   \n",
       "Date                                                                     \n",
       "2022-05-24 -0.069255 -0.003952  0.020050 -0.051407 -0.019216 -0.032141  \\\n",
       "2022-05-25  0.048777  0.011170  0.004410 -0.000817  0.001140  0.025696   \n",
       "2022-05-26  0.074271  0.012875  0.018603  0.023210  0.023199  0.040295   \n",
       "2022-05-27  0.073333  0.027604  0.017386  0.041581  0.040757  0.036632   \n",
       "2022-05-31 -0.001804 -0.005014 -0.003088  0.010993 -0.005346  0.043970   \n",
       "...              ...       ...       ...       ...       ...       ...   \n",
       "2023-05-16  0.001022  0.007368  0.000811  0.026761  0.000000  0.019784   \n",
       "2023-05-17  0.044079  0.009452  0.018225  0.011575  0.003603  0.018519   \n",
       "2023-05-18  0.017428  0.014395  0.003500  0.016793  0.013666  0.022944   \n",
       "2023-05-19  0.018373 -0.000565  0.008799 -0.002186  0.000628 -0.016081   \n",
       "2023-05-22  0.048462  0.008921  0.001886  0.021258 -0.005481 -0.010667   \n",
       "\n",
       "                ADBE  \n",
       "Date                  \n",
       "2022-05-24 -0.020528  \n",
       "2022-05-25  0.010266  \n",
       "2022-05-26  0.015155  \n",
       "2022-05-27  0.048018  \n",
       "2022-05-31 -0.027416  \n",
       "...              ...  \n",
       "2023-05-16 -0.001620  \n",
       "2023-05-17  0.033381  \n",
       "2023-05-18  0.010655  \n",
       "2023-05-19  0.030020  \n",
       "2023-05-22  0.002155  \n",
       "\n",
       "[250 rows x 7 columns]"
      ]
     },
     "execution_count": 2,
     "metadata": {},
     "output_type": "execute_result"
    }
   ],
   "source": [
    "tickers = [\"TSLA\", \"MSFT\", \"IBM\", \"GOOG\", \"AAPL\", \"AMZN\", \"ADBE\"]\n",
    "rets = (\n",
    "    yf.download(tickers, period=\"1y\")[\"Adj Close\"].loc[:, tickers].pct_change().iloc[1:, :].ffill()\n",
    ")\n",
    "rets"
   ]
  },
  {
   "attachments": {},
   "cell_type": "markdown",
   "metadata": {},
   "source": [
    "In the following portfolio optimization problem we will:\n",
    "- Minimize CVaR at 95% confidence level\n",
    "- Minimize Variance\n",
    "- Maximize Expected Retruns"
   ]
  },
  {
   "cell_type": "code",
   "execution_count": 3,
   "metadata": {},
   "outputs": [],
   "source": [
    "pop = PortfolioOptimizationProblem(\n",
    "    returns=rets,\n",
    "    objective_functions=[\n",
    "        CVaRObjectiveFunction(confidence_level=0.95, weight=1.0),\n",
    "        VarianceObjectiveFunction(weight=1.0),\n",
    "        ExpectedReturnsObjectiveFunction(weight=0.3),\n",
    "    ],\n",
    "    constraint_functions=[\n",
    "        SumToOneConstraint(),\n",
    "        NoShortSellConstraint(),\n",
    "    ],\n",
    ")"
   ]
  },
  {
   "cell_type": "code",
   "execution_count": 5,
   "metadata": {},
   "outputs": [],
   "source": [
    "ptf = pop.solve(solver=\"ECOS\")"
   ]
  },
  {
   "cell_type": "code",
   "execution_count": 6,
   "metadata": {},
   "outputs": [
    {
     "data": {
      "text/plain": [
       "TSLA    0.000000\n",
       "MSFT    0.338102\n",
       "IBM     0.479004\n",
       "GOOG    0.000000\n",
       "AAPL    0.182895\n",
       "AMZN    0.000000\n",
       "ADBE    0.000000\n",
       "dtype: float64"
      ]
     },
     "execution_count": 6,
     "metadata": {},
     "output_type": "execute_result"
    }
   ],
   "source": [
    "ptf.weights"
   ]
  },
  {
   "cell_type": "code",
   "execution_count": 7,
   "metadata": {},
   "outputs": [
    {
     "data": {
      "text/plain": [
       "[{<ObjectiveFunctionName.CVAR: 'CVaR'>: 0.029028499211609417},\n",
       " {<ObjectiveFunctionName.VARIANCE: 'VARIANCE'>: 0.04999096599731992},\n",
       " {<ObjectiveFunctionName.EXPECTED_RETURNS: 'EXPECTED_RETURNS'>: -0.04792116480264919}]"
      ]
     },
     "execution_count": 7,
     "metadata": {},
     "output_type": "execute_result"
    }
   ],
   "source": [
    "ptf.objective_values"
   ]
  }
 ],
 "metadata": {
  "kernelspec": {
   "display_name": "cvxpy-portfolio-optimizer-env",
   "language": "python",
   "name": "python3"
  },
  "language_info": {
   "codemirror_mode": {
    "name": "ipython",
    "version": 3
   },
   "file_extension": ".py",
   "mimetype": "text/x-python",
   "name": "python",
   "nbconvert_exporter": "python",
   "pygments_lexer": "ipython3",
   "version": "3.10.5"
  },
  "orig_nbformat": 4
 },
 "nbformat": 4,
 "nbformat_minor": 2
}
