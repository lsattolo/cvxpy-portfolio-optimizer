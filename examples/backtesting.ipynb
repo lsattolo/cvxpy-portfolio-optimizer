{
 "cells": [
  {
   "cell_type": "code",
   "execution_count": null,
   "metadata": {},
   "outputs": [],
   "source": [
    "pip install yfinance"
   ]
  },
  {
   "cell_type": "code",
   "execution_count": 2,
   "metadata": {},
   "outputs": [],
   "source": [
    "from cvxpy_portfolio_optimizer._enums import RebalanceFrequency\n",
    "from cvxpy_portfolio_optimizer.backtester import Backtester\n",
    "from cvxpy_portfolio_optimizer.constraint_function import (\n",
    "    NoShortSellConstraint,\n",
    "    SumToOneConstraint,\n",
    ")\n",
    "from cvxpy_portfolio_optimizer.objective_function import VarianceObjectiveFunction\n",
    "import yfinance as yf"
   ]
  },
  {
   "cell_type": "code",
   "execution_count": 3,
   "metadata": {},
   "outputs": [
    {
     "name": "stderr",
     "output_type": "stream",
     "text": [
      "[*********************100%%**********************]  7 of 7 completed\n"
     ]
    },
    {
     "data": {
      "text/html": [
       "<div>\n",
       "<style scoped>\n",
       "    .dataframe tbody tr th:only-of-type {\n",
       "        vertical-align: middle;\n",
       "    }\n",
       "\n",
       "    .dataframe tbody tr th {\n",
       "        vertical-align: top;\n",
       "    }\n",
       "\n",
       "    .dataframe thead th {\n",
       "        text-align: right;\n",
       "    }\n",
       "</style>\n",
       "<table border=\"1\" class=\"dataframe\">\n",
       "  <thead>\n",
       "    <tr style=\"text-align: right;\">\n",
       "      <th>Ticker</th>\n",
       "      <th>TSLA</th>\n",
       "      <th>MSFT</th>\n",
       "      <th>IBM</th>\n",
       "      <th>GOOG</th>\n",
       "      <th>AAPL</th>\n",
       "      <th>AMZN</th>\n",
       "      <th>ADBE</th>\n",
       "    </tr>\n",
       "    <tr>\n",
       "      <th>Date</th>\n",
       "      <th></th>\n",
       "      <th></th>\n",
       "      <th></th>\n",
       "      <th></th>\n",
       "      <th></th>\n",
       "      <th></th>\n",
       "      <th></th>\n",
       "    </tr>\n",
       "  </thead>\n",
       "  <tbody>\n",
       "    <tr>\n",
       "      <th>2022-05-26</th>\n",
       "      <td>0.074271</td>\n",
       "      <td>0.012875</td>\n",
       "      <td>0.018602</td>\n",
       "      <td>0.023210</td>\n",
       "      <td>0.023200</td>\n",
       "      <td>0.040295</td>\n",
       "      <td>0.015155</td>\n",
       "    </tr>\n",
       "    <tr>\n",
       "      <th>2022-05-27</th>\n",
       "      <td>0.073333</td>\n",
       "      <td>0.027604</td>\n",
       "      <td>0.017386</td>\n",
       "      <td>0.041581</td>\n",
       "      <td>0.040757</td>\n",
       "      <td>0.036632</td>\n",
       "      <td>0.048018</td>\n",
       "    </tr>\n",
       "    <tr>\n",
       "      <th>2022-05-31</th>\n",
       "      <td>-0.001804</td>\n",
       "      <td>-0.005014</td>\n",
       "      <td>-0.003087</td>\n",
       "      <td>0.010993</td>\n",
       "      <td>-0.005346</td>\n",
       "      <td>0.043970</td>\n",
       "      <td>-0.027416</td>\n",
       "    </tr>\n",
       "    <tr>\n",
       "      <th>2022-06-01</th>\n",
       "      <td>-0.023593</td>\n",
       "      <td>0.002023</td>\n",
       "      <td>0.004250</td>\n",
       "      <td>0.000859</td>\n",
       "      <td>-0.000873</td>\n",
       "      <td>0.012266</td>\n",
       "      <td>0.004034</td>\n",
       "    </tr>\n",
       "    <tr>\n",
       "      <th>2022-06-02</th>\n",
       "      <td>0.046774</td>\n",
       "      <td>0.007929</td>\n",
       "      <td>0.005164</td>\n",
       "      <td>0.031620</td>\n",
       "      <td>0.016811</td>\n",
       "      <td>0.031450</td>\n",
       "      <td>0.055290</td>\n",
       "    </tr>\n",
       "    <tr>\n",
       "      <th>...</th>\n",
       "      <td>...</td>\n",
       "      <td>...</td>\n",
       "      <td>...</td>\n",
       "      <td>...</td>\n",
       "      <td>...</td>\n",
       "      <td>...</td>\n",
       "      <td>...</td>\n",
       "    </tr>\n",
       "    <tr>\n",
       "      <th>2024-05-20</th>\n",
       "      <td>-0.014144</td>\n",
       "      <td>0.012208</td>\n",
       "      <td>0.005265</td>\n",
       "      <td>0.006599</td>\n",
       "      <td>0.006162</td>\n",
       "      <td>-0.006280</td>\n",
       "      <td>0.002606</td>\n",
       "    </tr>\n",
       "    <tr>\n",
       "      <th>2024-05-21</th>\n",
       "      <td>0.066591</td>\n",
       "      <td>0.008699</td>\n",
       "      <td>0.020892</td>\n",
       "      <td>0.006052</td>\n",
       "      <td>0.006857</td>\n",
       "      <td>-0.002125</td>\n",
       "      <td>-0.005859</td>\n",
       "    </tr>\n",
       "    <tr>\n",
       "      <th>2024-05-22</th>\n",
       "      <td>-0.034780</td>\n",
       "      <td>0.003450</td>\n",
       "      <td>0.001268</td>\n",
       "      <td>-0.008577</td>\n",
       "      <td>-0.007538</td>\n",
       "      <td>-0.000109</td>\n",
       "      <td>0.004317</td>\n",
       "    </tr>\n",
       "    <tr>\n",
       "      <th>2024-05-23</th>\n",
       "      <td>-0.035367</td>\n",
       "      <td>-0.008176</td>\n",
       "      <td>-0.017387</td>\n",
       "      <td>-0.016517</td>\n",
       "      <td>-0.021058</td>\n",
       "      <td>-0.011358</td>\n",
       "      <td>-0.001281</td>\n",
       "    </tr>\n",
       "    <tr>\n",
       "      <th>2024-05-24</th>\n",
       "      <td>0.031656</td>\n",
       "      <td>0.007400</td>\n",
       "      <td>0.001289</td>\n",
       "      <td>0.007255</td>\n",
       "      <td>0.016588</td>\n",
       "      <td>-0.001657</td>\n",
       "      <td>-0.016304</td>\n",
       "    </tr>\n",
       "  </tbody>\n",
       "</table>\n",
       "<p>502 rows × 7 columns</p>\n",
       "</div>"
      ],
      "text/plain": [
       "Ticker          TSLA      MSFT       IBM      GOOG      AAPL      AMZN  \\\n",
       "Date                                                                     \n",
       "2022-05-26  0.074271  0.012875  0.018602  0.023210  0.023200  0.040295   \n",
       "2022-05-27  0.073333  0.027604  0.017386  0.041581  0.040757  0.036632   \n",
       "2022-05-31 -0.001804 -0.005014 -0.003087  0.010993 -0.005346  0.043970   \n",
       "2022-06-01 -0.023593  0.002023  0.004250  0.000859 -0.000873  0.012266   \n",
       "2022-06-02  0.046774  0.007929  0.005164  0.031620  0.016811  0.031450   \n",
       "...              ...       ...       ...       ...       ...       ...   \n",
       "2024-05-20 -0.014144  0.012208  0.005265  0.006599  0.006162 -0.006280   \n",
       "2024-05-21  0.066591  0.008699  0.020892  0.006052  0.006857 -0.002125   \n",
       "2024-05-22 -0.034780  0.003450  0.001268 -0.008577 -0.007538 -0.000109   \n",
       "2024-05-23 -0.035367 -0.008176 -0.017387 -0.016517 -0.021058 -0.011358   \n",
       "2024-05-24  0.031656  0.007400  0.001289  0.007255  0.016588 -0.001657   \n",
       "\n",
       "Ticker          ADBE  \n",
       "Date                  \n",
       "2022-05-26  0.015155  \n",
       "2022-05-27  0.048018  \n",
       "2022-05-31 -0.027416  \n",
       "2022-06-01  0.004034  \n",
       "2022-06-02  0.055290  \n",
       "...              ...  \n",
       "2024-05-20  0.002606  \n",
       "2024-05-21 -0.005859  \n",
       "2024-05-22  0.004317  \n",
       "2024-05-23 -0.001281  \n",
       "2024-05-24 -0.016304  \n",
       "\n",
       "[502 rows x 7 columns]"
      ]
     },
     "execution_count": 3,
     "metadata": {},
     "output_type": "execute_result"
    }
   ],
   "source": [
    "tickers = [\"TSLA\", \"MSFT\", \"IBM\", \"GOOG\", \"AAPL\", \"AMZN\", \"ADBE\"]\n",
    "rets = (\n",
    "    yf.download(tickers, period=\"2y\")[\"Adj Close\"].loc[:, tickers].pct_change().iloc[1:, :].ffill()\n",
    ")\n",
    "rets"
   ]
  },
  {
   "cell_type": "markdown",
   "metadata": {},
   "source": [
    "Create a backtester object and run backtest"
   ]
  },
  {
   "cell_type": "code",
   "execution_count": 4,
   "metadata": {},
   "outputs": [],
   "source": [
    "bt = Backtester(\n",
    "    learning_days=365,\n",
    "    rebalance_frequency=RebalanceFrequency.ONE_MONTH,\n",
    "    returns=rets,\n",
    "    objective_functions=[VarianceObjectiveFunction()],\n",
    "    constraint_functions=[SumToOneConstraint(), NoShortSellConstraint()],\n",
    ")\n",
    "bt_out = bt.run()"
   ]
  },
  {
   "cell_type": "code",
   "execution_count": 5,
   "metadata": {},
   "outputs": [
    {
     "data": {
      "text/plain": [
       "Date\n",
       "2023-06-01    0.010153\n",
       "2023-06-02    0.019196\n",
       "2023-06-05    0.002466\n",
       "2023-06-06    0.000606\n",
       "2023-06-07    0.007930\n",
       "                ...   \n",
       "2024-05-17    0.000572\n",
       "2024-05-20    0.006491\n",
       "2024-05-21    0.012641\n",
       "2024-05-22   -0.002076\n",
       "2024-05-23   -0.016943\n",
       "Length: 247, dtype: float64"
      ]
     },
     "execution_count": 5,
     "metadata": {},
     "output_type": "execute_result"
    }
   ],
   "source": [
    "bt_out.portfolio_returns"
   ]
  },
  {
   "cell_type": "code",
   "execution_count": 6,
   "metadata": {},
   "outputs": [
    {
     "data": {
      "text/plain": [
       "<Axes: xlabel='Date'>"
      ]
     },
     "execution_count": 6,
     "metadata": {},
     "output_type": "execute_result"
    },
    {
     "data": {
      "image/png": "[encoded data removed]",
      "text/plain": [
       "<Figure size 640x480 with 1 Axes>"
      ]
     },
     "metadata": {},
     "output_type": "display_data"
    }
   ],
   "source": [
    "(1 + bt_out.portfolio_returns).cumprod().plot()"
   ]
  },
  {
   "cell_type": "markdown",
   "metadata": {},
   "source": [
    "It's also possible to access all the rebalanced portfolios"
   ]
  },
  {
   "cell_type": "code",
   "execution_count": 7,
   "metadata": {},
   "outputs": [
    {
     "data": {
      "text/plain": [
       "{Timestamp('2023-06-01 00:00:00'): <cvxpy_portfolio_optimizer.portfolio.Portfolio at 0x1469013f0>,\n",
       " Timestamp('2023-07-03 00:00:00'): <cvxpy_portfolio_optimizer.portfolio.Portfolio at 0x1468d73d0>,\n",
       " Timestamp('2023-08-01 00:00:00'): <cvxpy_portfolio_optimizer.portfolio.Portfolio at 0x1469f8970>,\n",
       " Timestamp('2023-09-01 00:00:00'): <cvxpy_portfolio_optimizer.portfolio.Portfolio at 0x1469f8b50>,\n",
       " Timestamp('2023-10-02 00:00:00'): <cvxpy_portfolio_optimizer.portfolio.Portfolio at 0x1469f9ed0>,\n",
       " Timestamp('2023-11-01 00:00:00'): <cvxpy_portfolio_optimizer.portfolio.Portfolio at 0x1469fa860>,\n",
       " Timestamp('2023-12-01 00:00:00'): <cvxpy_portfolio_optimizer.portfolio.Portfolio at 0x1469fb1f0>,\n",
       " Timestamp('2024-01-01 00:00:00'): <cvxpy_portfolio_optimizer.portfolio.Portfolio at 0x1469fb730>,\n",
       " Timestamp('2024-02-01 00:00:00'): <cvxpy_portfolio_optimizer.portfolio.Portfolio at 0x146ad4580>,\n",
       " Timestamp('2024-03-01 00:00:00'): <cvxpy_portfolio_optimizer.portfolio.Portfolio at 0x146ad4ee0>,\n",
       " Timestamp('2024-04-01 00:00:00'): <cvxpy_portfolio_optimizer.portfolio.Portfolio at 0x146ad5870>,\n",
       " Timestamp('2024-05-01 00:00:00'): <cvxpy_portfolio_optimizer.portfolio.Portfolio at 0x146ad6200>}"
      ]
     },
     "execution_count": 7,
     "metadata": {},
     "output_type": "execute_result"
    }
   ],
   "source": [
    "bt_out.portfolios"
   ]
  },
  {
   "cell_type": "code",
   "execution_count": null,
   "metadata": {},
   "outputs": [],
   "source": []
  }
 ],
 "metadata": {
  "kernelspec": {
   "display_name": "cvxpy-portfolio-optimizer-mJYvmOmM-py3.10",
   "language": "python",
   "name": "python3"
  },
  "language_info": {
   "codemirror_mode": {
    "name": "ipython",
    "version": 3
   },
   "file_extension": ".py",
   "mimetype": "text/x-python",
   "name": "python",
   "nbconvert_exporter": "python",
   "pygments_lexer": "ipython3",
   "version": "3.10.5"
  }
 },
 "nbformat": 4,
 "nbformat_minor": 2
}
