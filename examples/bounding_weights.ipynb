{
 "cells": [
  {
   "cell_type": "code",
   "execution_count": null,
   "metadata": {},
   "outputs": [],
   "source": [
    "pip install yfinance"
   ]
  },
  {
   "cell_type": "code",
   "execution_count": 3,
   "metadata": {},
   "outputs": [],
   "source": [
    "from cvxpy_portfolio_optimizer.objective_function import WorstRealizationObjectiveFunction\n",
    "from cvxpy_portfolio_optimizer.constraint_function import SumToOneConstraint, NoShortSellConstraint, WeightsToBoundConstraint\n",
    "from cvxpy_portfolio_optimizer.portfolio_optimization_problem import PortfolioOptimizationProblem\n",
    "import yfinance as yf\n",
    "import cvxpy as cp"
   ]
  },
  {
   "cell_type": "code",
   "execution_count": 2,
   "metadata": {},
   "outputs": [
    {
     "name": "stderr",
     "output_type": "stream",
     "text": [
      "[*********************100%%**********************]  7 of 7 completed\n"
     ]
    },
    {
     "data": {
      "text/html": [
       "<div>\n",
       "<style scoped>\n",
       "    .dataframe tbody tr th:only-of-type {\n",
       "        vertical-align: middle;\n",
       "    }\n",
       "\n",
       "    .dataframe tbody tr th {\n",
       "        vertical-align: top;\n",
       "    }\n",
       "\n",
       "    .dataframe thead th {\n",
       "        text-align: right;\n",
       "    }\n",
       "</style>\n",
       "<table border=\"1\" class=\"dataframe\">\n",
       "  <thead>\n",
       "    <tr style=\"text-align: right;\">\n",
       "      <th>Ticker</th>\n",
       "      <th>TSLA</th>\n",
       "      <th>MSFT</th>\n",
       "      <th>IBM</th>\n",
       "      <th>GOOG</th>\n",
       "      <th>AAPL</th>\n",
       "      <th>AMZN</th>\n",
       "      <th>ADBE</th>\n",
       "    </tr>\n",
       "    <tr>\n",
       "      <th>Date</th>\n",
       "      <th></th>\n",
       "      <th></th>\n",
       "      <th></th>\n",
       "      <th></th>\n",
       "      <th></th>\n",
       "      <th></th>\n",
       "      <th></th>\n",
       "    </tr>\n",
       "  </thead>\n",
       "  <tbody>\n",
       "    <tr>\n",
       "      <th>2023-05-23</th>\n",
       "      <td>-0.016413</td>\n",
       "      <td>-0.018432</td>\n",
       "      <td>0.005333</td>\n",
       "      <td>-0.020497</td>\n",
       "      <td>-0.015155</td>\n",
       "      <td>-0.000174</td>\n",
       "      <td>-0.004381</td>\n",
       "    </tr>\n",
       "    <tr>\n",
       "      <th>2023-05-24</th>\n",
       "      <td>-0.015449</td>\n",
       "      <td>-0.004472</td>\n",
       "      <td>-0.019504</td>\n",
       "      <td>-0.013383</td>\n",
       "      <td>0.001632</td>\n",
       "      <td>0.015306</td>\n",
       "      <td>-0.012580</td>\n",
       "    </tr>\n",
       "    <tr>\n",
       "      <th>2023-05-25</th>\n",
       "      <td>0.008584</td>\n",
       "      <td>0.038458</td>\n",
       "      <td>0.008593</td>\n",
       "      <td>0.022279</td>\n",
       "      <td>0.006692</td>\n",
       "      <td>-0.014989</td>\n",
       "      <td>0.071905</td>\n",
       "    </tr>\n",
       "    <tr>\n",
       "      <th>2023-05-26</th>\n",
       "      <td>0.047162</td>\n",
       "      <td>0.021386</td>\n",
       "      <td>0.016803</td>\n",
       "      <td>0.008685</td>\n",
       "      <td>0.014105</td>\n",
       "      <td>0.044435</td>\n",
       "      <td>0.059506</td>\n",
       "    </tr>\n",
       "    <tr>\n",
       "      <th>2023-05-30</th>\n",
       "      <td>0.041363</td>\n",
       "      <td>-0.005047</td>\n",
       "      <td>0.004578</td>\n",
       "      <td>-0.006298</td>\n",
       "      <td>0.010660</td>\n",
       "      <td>0.012905</td>\n",
       "      <td>0.004381</td>\n",
       "    </tr>\n",
       "    <tr>\n",
       "      <th>...</th>\n",
       "      <td>...</td>\n",
       "      <td>...</td>\n",
       "      <td>...</td>\n",
       "      <td>...</td>\n",
       "      <td>...</td>\n",
       "      <td>...</td>\n",
       "      <td>...</td>\n",
       "    </tr>\n",
       "    <tr>\n",
       "      <th>2024-05-14</th>\n",
       "      <td>0.032928</td>\n",
       "      <td>0.006865</td>\n",
       "      <td>-0.001194</td>\n",
       "      <td>0.006027</td>\n",
       "      <td>0.006173</td>\n",
       "      <td>0.002680</td>\n",
       "      <td>-0.014821</td>\n",
       "    </tr>\n",
       "    <tr>\n",
       "      <th>2024-05-15</th>\n",
       "      <td>-0.020051</td>\n",
       "      <td>0.017484</td>\n",
       "      <td>0.005378</td>\n",
       "      <td>0.011342</td>\n",
       "      <td>0.012218</td>\n",
       "      <td>-0.005773</td>\n",
       "      <td>0.019750</td>\n",
       "    </tr>\n",
       "    <tr>\n",
       "      <th>2024-05-16</th>\n",
       "      <td>0.004885</td>\n",
       "      <td>-0.004940</td>\n",
       "      <td>0.004220</td>\n",
       "      <td>0.008914</td>\n",
       "      <td>0.000632</td>\n",
       "      <td>-0.012689</td>\n",
       "      <td>-0.005089</td>\n",
       "    </tr>\n",
       "    <tr>\n",
       "      <th>2024-05-17</th>\n",
       "      <td>0.014985</td>\n",
       "      <td>-0.001853</td>\n",
       "      <td>0.000355</td>\n",
       "      <td>0.010603</td>\n",
       "      <td>0.000158</td>\n",
       "      <td>0.005827</td>\n",
       "      <td>0.001139</td>\n",
       "    </tr>\n",
       "    <tr>\n",
       "      <th>2024-05-20</th>\n",
       "      <td>-0.014144</td>\n",
       "      <td>0.012208</td>\n",
       "      <td>0.005265</td>\n",
       "      <td>0.006599</td>\n",
       "      <td>0.006162</td>\n",
       "      <td>-0.006280</td>\n",
       "      <td>0.002606</td>\n",
       "    </tr>\n",
       "  </tbody>\n",
       "</table>\n",
       "<p>250 rows × 7 columns</p>\n",
       "</div>"
      ],
      "text/plain": [
       "Ticker          TSLA      MSFT       IBM      GOOG      AAPL      AMZN  \\\n",
       "Date                                                                     \n",
       "2023-05-23 -0.016413 -0.018432  0.005333 -0.020497 -0.015155 -0.000174   \n",
       "2023-05-24 -0.015449 -0.004472 -0.019504 -0.013383  0.001632  0.015306   \n",
       "2023-05-25  0.008584  0.038458  0.008593  0.022279  0.006692 -0.014989   \n",
       "2023-05-26  0.047162  0.021386  0.016803  0.008685  0.014105  0.044435   \n",
       "2023-05-30  0.041363 -0.005047  0.004578 -0.006298  0.010660  0.012905   \n",
       "...              ...       ...       ...       ...       ...       ...   \n",
       "2024-05-14  0.032928  0.006865 -0.001194  0.006027  0.006173  0.002680   \n",
       "2024-05-15 -0.020051  0.017484  0.005378  0.011342  0.012218 -0.005773   \n",
       "2024-05-16  0.004885 -0.004940  0.004220  0.008914  0.000632 -0.012689   \n",
       "2024-05-17  0.014985 -0.001853  0.000355  0.010603  0.000158  0.005827   \n",
       "2024-05-20 -0.014144  0.012208  0.005265  0.006599  0.006162 -0.006280   \n",
       "\n",
       "Ticker          ADBE  \n",
       "Date                  \n",
       "2023-05-23 -0.004381  \n",
       "2023-05-24 -0.012580  \n",
       "2023-05-25  0.071905  \n",
       "2023-05-26  0.059506  \n",
       "2023-05-30  0.004381  \n",
       "...              ...  \n",
       "2024-05-14 -0.014821  \n",
       "2024-05-15  0.019750  \n",
       "2024-05-16 -0.005089  \n",
       "2024-05-17  0.001139  \n",
       "2024-05-20  0.002606  \n",
       "\n",
       "[250 rows x 7 columns]"
      ]
     },
     "execution_count": 2,
     "metadata": {},
     "output_type": "execute_result"
    }
   ],
   "source": [
    "tickers = [\"TSLA\", \"MSFT\", \"IBM\", \"GOOG\", \"AAPL\", \"AMZN\", \"ADBE\"]\n",
    "rets = (\n",
    "    yf.download(tickers, period=\"1y\")[\"Adj Close\"].loc[:, tickers].pct_change().iloc[1:, :].ffill()\n",
    ")\n",
    "rets"
   ]
  },
  {
   "attachments": {},
   "cell_type": "markdown",
   "metadata": {},
   "source": [
    "In the following portfolio optimization problem we will:\n",
    "- Minimize Worst Realization\n",
    "- Bound AAPL weight to be 10%\n",
    "- Bound all the portfolio wights to be maximum 20%"
   ]
  },
  {
   "cell_type": "code",
   "execution_count": 12,
   "metadata": {},
   "outputs": [],
   "source": [
    "pop = PortfolioOptimizationProblem(\n",
    "    returns=rets,\n",
    "    objective_functions=[\n",
    "        WorstRealizationObjectiveFunction(),\n",
    "    ],\n",
    "    constraint_functions=[\n",
    "        SumToOneConstraint(),\n",
    "        NoShortSellConstraint(),\n",
    "        WeightsToBoundConstraint(lower_bound={\"AAPL\": 0.1}, upper_bound={\"AAPL\": 0.1}),\n",
    "        WeightsToBoundConstraint(upper_bound=0.2),\n",
    "    ],\n",
    ")\n",
    "ptf = pop.solve(solver=cp.CLARABEL)"
   ]
  },
  {
   "cell_type": "code",
   "execution_count": 16,
   "metadata": {},
   "outputs": [
    {
     "data": {
      "text/plain": [
       "<Axes: >"
      ]
     },
     "execution_count": 16,
     "metadata": {},
     "output_type": "execute_result"
    },
    {
     "data": {
      "image/png": "[encoded data removed]",
      "text/plain": [
       "<Figure size 640x480 with 1 Axes>"
      ]
     },
     "metadata": {},
     "output_type": "display_data"
    }
   ],
   "source": [
    "ptf.weights.plot.bar()"
   ]
  },
  {
   "cell_type": "code",
   "execution_count": null,
   "metadata": {},
   "outputs": [],
   "source": []
  }
 ],
 "metadata": {
  "kernelspec": {
   "display_name": "cvxpy-portfolio-optimizer-env",
   "language": "python",
   "name": "python3"
  },
  "language_info": {
   "codemirror_mode": {
    "name": "ipython",
    "version": 3
   },
   "file_extension": ".py",
   "mimetype": "text/x-python",
   "name": "python",
   "nbconvert_exporter": "python",
   "pygments_lexer": "ipython3",
   "version": "3.10.5"
  },
  "orig_nbformat": 4
 },
 "nbformat": 4,
 "nbformat_minor": 2
}
